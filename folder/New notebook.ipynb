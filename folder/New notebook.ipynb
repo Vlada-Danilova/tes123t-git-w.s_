{
 "cells":[
  {
   "cell_type":"code",
   "source":[
    "123"
   ],
   "execution_count":null,
   "outputs":[
    {
     "data":{
      "text\/plain":[
       "123"
      ]
     },
     "metadata":{},
     "output_type":"display_data"
    }
   ],
   "metadata":{
    "datalore":{
     "node_id":"KCK5kp83LaQJ2TiwECXsB4",
     "type":"CODE",
     "hide_input_from_viewers":false,
     "hide_output_from_viewers":false,
     "report_properties":{
      "rowId":"ozr2Hr2oJTkhbmRomSYerC",
      "relativeY":0
     }
    }
   }
  },
  {
   "cell_type":"markdown",
   "source":[
    "# 123"
   ],
   "attachments":{},
   "metadata":{
    "datalore":{
     "node_id":"AWP1VKzbguqnMkaqKEbX4N",
     "type":"MD",
     "hide_input_from_viewers":false,
     "hide_output_from_viewers":false,
     "report_properties":{
      "rowId":"BE2p16A3c19KO04D9vFSih",
      "relativeY":0
     }
    }
   }
  },
  {
   "cell_type":"code",
   "source":[
    "SELECT 1"
   ],
   "execution_count":null,
   "outputs":[
    {
     "data":{
      "text\/html":[
       "<div>\n",
       "<style scoped>\n",
       "    .dataframe tbody tr th:only-of-type {\n",
       "        vertical-align: middle;\n",
       "    }\n",
       "\n",
       "    .dataframe tbody tr th {\n",
       "        vertical-align: top;\n",
       "    }\n",
       "\n",
       "    .dataframe thead th {\n",
       "        text-align: right;\n",
       "    }\n",
       "<\/style>\n",
       "<table border=\"1\" class=\"dataframe\">\n",
       "  <thead>\n",
       "    <tr style=\"text-align: right;\">\n",
       "      <th><\/th>\n",
       "      <th>1<\/th>\n",
       "    <\/tr>\n",
       "  <\/thead>\n",
       "  <tbody>\n",
       "    <tr>\n",
       "      <th>0<\/th>\n",
       "      <td>1<\/td>\n",
       "    <\/tr>\n",
       "  <\/tbody>\n",
       "<\/table>\n",
       "<\/div>"
      ]
     },
     "metadata":{},
     "output_type":"display_data"
    }
   ],
   "metadata":{
    "datalore":{
     "node_id":"MUtpkgdtnimNIhJihV9mE6",
     "type":"SQL",
     "hide_input_from_viewers":false,
     "hide_output_from_viewers":false,
     "report_properties":{
      "rowId":"5oWlFkNry3VSTXS5KnciaP",
      "relativeY":0
     },
     "sql_cell_properties":{
      "dbId":"-2",
      "variableName":"df_1",
      "dialect":"SQLite",
      "sandboxMode":false,
      "sqliteFileName":"\/data\/workspace_files\/sqlitews"
     }
    }
   }
  }
 ],
 "metadata":{
  "kernelspec":{
   "display_name":"Python",
   "language":"python",
   "name":"python"
  },
  "datalore":{
   "computation_mode":"JUPYTER",
   "package_manager":"pip",
   "base_environment":"default",
   "packages":[],
   "report_row_ids":[
    "ozr2Hr2oJTkhbmRomSYerC",
    "BE2p16A3c19KO04D9vFSih",
    "5oWlFkNry3VSTXS5KnciaP"
   ],
   "report_link":"https:\/\/staging.internal.datalore.io\/report\/9xriZl1T0HIYRD1VCN4Rxo\/F3YhUlhyYvvmWwnaYrNSKu",
   "version":3
  }
 },
 "nbformat_minor":4
}
