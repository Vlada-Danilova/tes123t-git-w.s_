{
 "cells":[
  {
   "cell_type":"code",
   "source":[
    "print(123)"
   ],
   "execution_count":null,
   "outputs":[],
   "metadata":{
    "datalore":{
     "node_id":"sKknl2tA3ysfp5fEvjQ3XK",
     "type":"CODE",
     "hide_input_from_viewers":false,
     "hide_output_from_viewers":false,
     "report_properties":{
      "rowId":"U8u28LTQ9tB9tB2JdicEWm",
      "relativeY":0
     }
    }
   }
  },
  {
   "cell_type":"code",
   "source":[
    "import altair"
   ],
   "execution_count":6,
   "outputs":[],
   "metadata":{
    "datalore":{
     "node_id":"dHQNzSB6PDzes5llzqoGhw",
     "type":"CODE",
     "hide_input_from_viewers":true,
     "hide_output_from_viewers":true
    }
   }
  },
  {
   "cell_type":"code",
   "source":[
    "import ggplot"
   ],
   "execution_count":5,
   "outputs":[
    {
     "ename":"AttributeError",
     "evalue":"AttributeError: module 'pandas' has no attribute 'tslib'",
     "traceback":[
      "\u001b[0;31m---------------------------------------------------------------------------",
      "Traceback (most recent call last)",
      "    at line 1 in <module>",
      "    at line 19 in <module>",
      "    at line 1 in <module>",
      "    at line 1 in <module>",
      "    at line 3 in <module>",
      "    at line 13 in <module>",
      "    at line 11 in <module>",
      "    at line 81 in <module>",
      "    at line 264 in __getattr__(name)",
      "AttributeError: module 'pandas' has no attribute 'tslib'"
     ],
     "output_type":"error"
    }
   ],
   "metadata":{
    "datalore":{
     "node_id":"0ur26kAVX5Xjyu0LzK4LCw",
     "type":"CODE",
     "hide_input_from_viewers":true,
     "hide_output_from_viewers":true
    }
   }
  },
  {
   "cell_type":"code",
   "source":[
    "import polaris"
   ],
   "execution_count":2,
   "outputs":[
    {
     "ename":"ModuleNotFoundError",
     "evalue":"ModuleNotFoundError: No module named 'polaris'",
     "traceback":[
      "\u001b[0;31m---------------------------------------------------------------------------",
      "Traceback (most recent call last)",
      "    at line 1 in <module>",
      "ModuleNotFoundError: No module named 'polaris'"
     ],
     "output_type":"error"
    }
   ],
   "metadata":{
    "datalore":{
     "node_id":"HrzgnuBBqJjdUiDJVMXtGr",
     "type":"CODE",
     "hide_input_from_viewers":true,
     "hide_output_from_viewers":true
    }
   }
  },
  {
   "cell_type":"markdown",
   "source":[
    "# md text"
   ],
   "attachments":{},
   "metadata":{
    "datalore":{
     "node_id":"8BLYMdXfe3nvoyWlA78lsB",
     "type":"MD",
     "hide_input_from_viewers":false,
     "hide_output_from_viewers":false,
     "report_properties":{
      "rowId":"jmA5OyRcJkDStRGKKJcTTs",
      "relativeY":0
     }
    }
   }
  },
  {
   "cell_type":"code",
   "source":[
    "SELECT * FROM airlines_final"
   ],
   "execution_count":2,
   "outputs":[
    {
     "data":{
      "text\/html":[
       "<div>\n",
       "<style scoped>\n",
       "    .dataframe tbody tr th:only-of-type {\n",
       "        vertical-align: middle;\n",
       "    }\n",
       "\n",
       "    .dataframe tbody tr th {\n",
       "        vertical-align: top;\n",
       "    }\n",
       "\n",
       "    .dataframe thead th {\n",
       "        text-align: right;\n",
       "    }\n",
       "<\/style>\n",
       "<table border=\"1\" class=\"dataframe\">\n",
       "  <thead>\n",
       "    <tr style=\"text-align: right;\">\n",
       "      <th><\/th>\n",
       "      <th>index<\/th>\n",
       "      <th>id<\/th>\n",
       "      <th>day<\/th>\n",
       "      <th>airline<\/th>\n",
       "      <th>destination<\/th>\n",
       "    <\/tr>\n",
       "  <\/thead>\n",
       "  <tbody>\n",
       "    <tr>\n",
       "      <th>0<\/th>\n",
       "      <td>0<\/td>\n",
       "      <td>1351<\/td>\n",
       "      <td>Tuesday<\/td>\n",
       "      <td>UNITED INTL<\/td>\n",
       "      <td>KANSAI<\/td>\n",
       "    <\/tr>\n",
       "    <tr>\n",
       "      <th>1<\/th>\n",
       "      <td>1<\/td>\n",
       "      <td>373<\/td>\n",
       "      <td>Friday<\/td>\n",
       "      <td>ALASKA<\/td>\n",
       "      <td>SAN JOSE DEL CABO<\/td>\n",
       "    <\/tr>\n",
       "    <tr>\n",
       "      <th>2<\/th>\n",
       "      <td>2<\/td>\n",
       "      <td>2820<\/td>\n",
       "      <td>Thursday<\/td>\n",
       "      <td>DELTA<\/td>\n",
       "      <td>LOS ANGELES<\/td>\n",
       "    <\/tr>\n",
       "    <tr>\n",
       "      <th>3<\/th>\n",
       "      <td>3<\/td>\n",
       "      <td>1157<\/td>\n",
       "      <td>Tuesday<\/td>\n",
       "      <td>SOUTHWEST<\/td>\n",
       "      <td>LOS ANGELES<\/td>\n",
       "    <\/tr>\n",
       "    <tr>\n",
       "      <th>4<\/th>\n",
       "      <td>4<\/td>\n",
       "      <td>2992<\/td>\n",
       "      <td>Wednesday<\/td>\n",
       "      <td>AMERICAN<\/td>\n",
       "      <td>MIAMI<\/td>\n",
       "    <\/tr>\n",
       "    <tr>\n",
       "      <th>...<\/th>\n",
       "      <td>...<\/td>\n",
       "      <td>...<\/td>\n",
       "      <td>...<\/td>\n",
       "      <td>...<\/td>\n",
       "      <td>...<\/td>\n",
       "    <\/tr>\n",
       "    <tr>\n",
       "      <th>2472<\/th>\n",
       "      <td>2804<\/td>\n",
       "      <td>1475<\/td>\n",
       "      <td>Tuesday<\/td>\n",
       "      <td>ALASKA<\/td>\n",
       "      <td>NEW YORK-JFK<\/td>\n",
       "    <\/tr>\n",
       "    <tr>\n",
       "      <th>2473<\/th>\n",
       "      <td>2805<\/td>\n",
       "      <td>2222<\/td>\n",
       "      <td>Thursday<\/td>\n",
       "      <td>SOUTHWEST<\/td>\n",
       "      <td>PHOENIX<\/td>\n",
       "    <\/tr>\n",
       "    <tr>\n",
       "      <th>2474<\/th>\n",
       "      <td>2806<\/td>\n",
       "      <td>2684<\/td>\n",
       "      <td>Friday<\/td>\n",
       "      <td>UNITED<\/td>\n",
       "      <td>ORLANDO<\/td>\n",
       "    <\/tr>\n",
       "    <tr>\n",
       "      <th>2475<\/th>\n",
       "      <td>2807<\/td>\n",
       "      <td>2549<\/td>\n",
       "      <td>Tuesday<\/td>\n",
       "      <td>JETBLUE<\/td>\n",
       "      <td>LONG BEACH<\/td>\n",
       "    <\/tr>\n",
       "    <tr>\n",
       "      <th>2476<\/th>\n",
       "      <td>2808<\/td>\n",
       "      <td>2162<\/td>\n",
       "      <td>Saturday<\/td>\n",
       "      <td>CHINA EASTERN<\/td>\n",
       "      <td>QINGDAO<\/td>\n",
       "    <\/tr>\n",
       "  <\/tbody>\n",
       "<\/table>\n",
       "<p>2477 rows × 5 columns<\/p>\n",
       "<\/div>"
      ]
     },
     "metadata":{},
     "output_type":"display_data"
    }
   ],
   "metadata":{
    "datalore":{
     "node_id":"1NAGBmqgI2ytj0msS7sphY",
     "type":"SQL",
     "hide_input_from_viewers":false,
     "hide_output_from_viewers":false,
     "report_properties":{
      "rowId":"THgbCyLFVdHbpruceTXlvZ",
      "relativeY":0
     },
     "sql_cell_properties":{
      "dbId":"JmTJMEUSsxLmW06ZDcJpO9",
      "variableName":"df_1",
      "dialect":"postgresql",
      "sandboxMode":false
     }
    }
   }
  },
  {
   "cell_type":"code",
   "source":[
    "# Import the necessary library\n",
    "import matplotlib.pyplot as plt\n",
    "\n",
    "# Group by airline and count\n",
    "airline_counts = df_1['airline'].value_counts()\n",
    "\n",
    "# Create a bar plot\n",
    "plt.figure(figsize=(10,5))\n",
    "airline_counts.plot(kind='bar')\n",
    "plt.xlabel('Airline')\n",
    "plt.ylabel('Count')\n",
    "plt.title('Number of Flights per Airline')\n",
    "plt.show()"
   ],
   "execution_count":3,
   "outputs":[
    {
     "data":{
      "image\/png":"[encoded data removed]"
     },
     "metadata":{
      "image\/png":{}
     },
     "output_type":"display_data"
    }
   ],
   "metadata":{
    "datalore":{
     "node_id":"9QIN2BHi2Gox0kt376UGnh",
     "type":"CODE",
     "hide_input_from_viewers":false,
     "hide_output_from_viewers":false,
     "report_properties":{
      "rowId":"x2eegVx60yEf2CxC2Ykwxs",
      "relativeY":0
     }
    }
   }
  },
  {
   "cell_type":"code",
   "source":[
    "CREATE TABLE new_table (\n",
    "    column1 datatype,\n",
    "    column2 datatype,\n",
    "    column3 datatype\n",
    ");"
   ],
   "execution_count":5,
   "outputs":[
    {
     "name":"stderr",
     "text":[
      "No result set received\n"
     ],
     "output_type":"stream"
    }
   ],
   "metadata":{
    "datalore":{
     "node_id":"wjqUNFB9wv9kZGd4RPmj8K",
     "type":"SQL",
     "hide_input_from_viewers":false,
     "hide_output_from_viewers":false,
     "report_properties":{
      "rowId":"2trI4XLulAhVfmtqAXSuoK",
      "relativeY":0
     },
     "sql_cell_properties":{
      "dbId":"-2",
      "variableName":"df_2",
      "dialect":"SQLite",
      "sandboxMode":false,
      "sqliteFileName":"datalore.sqlite"
     }
    }
   }
  },
  {
   "cell_type":"code",
   "source":[
    "SELECT * FROM new_table"
   ],
   "execution_count":6,
   "outputs":[
    {
     "data":{
      "text\/html":[
       "<div>\n",
       "<style scoped>\n",
       "    .dataframe tbody tr th:only-of-type {\n",
       "        vertical-align: middle;\n",
       "    }\n",
       "\n",
       "    .dataframe tbody tr th {\n",
       "        vertical-align: top;\n",
       "    }\n",
       "\n",
       "    .dataframe thead th {\n",
       "        text-align: right;\n",
       "    }\n",
       "<\/style>\n",
       "<table border=\"1\" class=\"dataframe\">\n",
       "  <thead>\n",
       "    <tr style=\"text-align: right;\">\n",
       "      <th><\/th>\n",
       "      <th>column1<\/th>\n",
       "      <th>column2<\/th>\n",
       "      <th>column3<\/th>\n",
       "    <\/tr>\n",
       "  <\/thead>\n",
       "  <tbody>\n",
       "  <\/tbody>\n",
       "<\/table>\n",
       "<\/div>"
      ]
     },
     "metadata":{},
     "output_type":"display_data"
    }
   ],
   "metadata":{
    "datalore":{
     "node_id":"GfY0xIBVI4XDuaxhlprL0b",
     "type":"SQL",
     "hide_input_from_viewers":false,
     "hide_output_from_viewers":false,
     "report_properties":{
      "rowId":"aLgtxMrSV9KqSJqsylXEDr",
      "relativeY":0
     },
     "sql_cell_properties":{
      "dbId":"-2",
      "variableName":"df_3",
      "dialect":"SQLite",
      "sandboxMode":false,
      "sqliteFileName":"datalore.sqlite"
     }
    }
   }
  }
 ],
 "metadata":{
  "kernelspec":{
   "display_name":"Python",
   "language":"python",
   "name":"python"
  },
  "datalore":{
   "computation_mode":"JUPYTER",
   "package_manager":"pip",
   "base_environment":"default",
   "packages":[
    {
     "name":"altair",
     "version":"5.4.1",
     "source":"PIP"
    },
    {
     "name":"ggplot",
     "version":"0.11.5",
     "source":"PIP"
    }
   ],
   "report_row_ids":[
    "U8u28LTQ9tB9tB2JdicEWm",
    "jmA5OyRcJkDStRGKKJcTTs",
    "THgbCyLFVdHbpruceTXlvZ",
    "x2eegVx60yEf2CxC2Ykwxs",
    "2trI4XLulAhVfmtqAXSuoK",
    "aLgtxMrSV9KqSJqsylXEDr"
   ],
   "report_link":"https:\/\/staging.internal.datalore.io\/report\/9xriZl1T0HIYRD1VCN4Rxo\/O5LdxXqlgsQe5eb0hmLtHb",
   "version":3
  }
 },
 "nbformat":4,
 "nbformat_minor":4
}
